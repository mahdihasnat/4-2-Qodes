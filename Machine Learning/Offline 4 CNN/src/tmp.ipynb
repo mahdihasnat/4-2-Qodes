{
 "cells": [
  {
   "cell_type": "code",
   "execution_count": 38,
   "metadata": {},
   "outputs": [
    {
     "name": "stdout",
     "output_type": "stream",
     "text": [
      "Total rows: 359\n",
      "[]\n",
      "[]\n",
      "x_max: 110, y_max: 110\n",
      "image_shape: (128, 128)\n"
     ]
    }
   ],
   "source": [
    "import numpy as np\n",
    "import pandas as pd\n",
    "import cv2\n",
    "import os\n",
    "import matplotlib.pyplot as plt\n",
    "import matplotlib.image as mpimg\n",
    "\n",
    "# Required magic to display matplotlib plots in notebooks\n",
    "%matplotlib inline\n",
    "\n",
    "def load_dataset():\n",
    "\tbase_folder = './../resource/NumtaDB_with_aug'\n",
    "\tsub_folder = '/training-b/'\n",
    "\tcsv_file_name = base_folder + '/training-b.csv'\n",
    "\t# read csv file\n",
    "\tcsv = pd.read_csv(csv_file_name)\n",
    "\t\n",
    "\tprint(\"Total rows: {0}\".format(csv.shape[0]))\n",
    "\tx_max = 0\n",
    "\ty_max = 0\n",
    "\timage_shape = (128,128)\n",
    "\tx,y = np.array([]), np.array([])\n",
    "\tfor index, row in csv.iterrows():\n",
    "\t\t# print(row['filename'])\n",
    "\t\t# print(row['digit'])\n",
    "\t\timage_fila_name = base_folder+sub_folder+row['filename']\n",
    "\t\t# read image using opencv or pillow\n",
    "\t\t\n",
    "\t\tif os.path.exists(image_fila_name):\n",
    "\t\t\t# print(\"File exists\")\n",
    "\t\t\timg = cv2.imread(image_fila_name, cv2.IMREAD_GRAYSCALE)\n",
    "\t\t\t# print(img.shape)\n",
    "\t\t\t# show image\n",
    "\t\t\tx_max = max(x_max, img.shape[0])\n",
    "\t\t\ty_max = max(y_max, img.shape[1])\n",
    "\t\t\timg = cv2.resize(img, image_shape)\n",
    "\t\t\t# plt.imshow(img, cmap='gray', interpolation='bicubic')\n",
    "\t\t\t# plt.show()\n",
    "\t\t\t# print(img.dtype)\n",
    "\t\t\t# print(img.shape)\n",
    "\t\t\t# add 1 channel dimension\n",
    "\t\t\timg = np.expand_dims(img, axis=0)\n",
    "\t\t\t# print(img.dtype)\n",
    "\t\t\t# print(img.shape)\n",
    "\t\t\t# print(img)\n",
    "\t\t\timg=img.astype(np.float32)\n",
    "\t\t\t# print(img.dtype)\n",
    "\t\t\timg/=255.0\n",
    "\t\t\t# print(img.dtype)\n",
    "\t\t\tnp.append(x, img)\n",
    "\t\t\tnp.append(y, row['digit'])\n",
    "\t\t\t# print(img)\n",
    "\t\t\tprint(x)\n",
    "\t\t\tprint(y)\n",
    "\t\t\tbreak\n",
    "\t\telse:\n",
    "\t\t\tprint(\"File does not exist:\",image_fila_name)\n",
    "\t\tpass\n",
    "\n",
    "\tprint(\"x_max: {0}, y_max: {1}\".format(x_max, y_max))\n",
    "\tprint(\"image_shape: {0}\".format(image_shape))\n",
    "\n",
    "load_dataset()"
   ]
  },
  {
   "cell_type": "code",
   "execution_count": null,
   "metadata": {},
   "outputs": [],
   "source": [
    "! pip install tensorflow\n",
    "import tensorflow as tf"
   ]
  }
 ],
 "metadata": {
  "kernelspec": {
   "display_name": "Python 3",
   "language": "python",
   "name": "python3"
  },
  "language_info": {
   "codemirror_mode": {
    "name": "ipython",
    "version": 3
   },
   "file_extension": ".py",
   "mimetype": "text/x-python",
   "name": "python",
   "nbconvert_exporter": "python",
   "pygments_lexer": "ipython3",
   "version": "3.10.6"
  },
  "orig_nbformat": 4,
  "vscode": {
   "interpreter": {
    "hash": "e7370f93d1d0cde622a1f8e1c04877d8463912d04d973331ad4851f04de6915a"
   }
  }
 },
 "nbformat": 4,
 "nbformat_minor": 2
}
